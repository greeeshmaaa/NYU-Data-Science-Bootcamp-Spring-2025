{
  "nbformat": 4,
  "nbformat_minor": 0,
  "metadata": {
    "colab": {
      "provenance": [],
      "toc_visible": true
    },
    "kernelspec": {
      "name": "python3",
      "display_name": "Python 3"
    },
    "language_info": {
      "name": "python"
    }
  },
  "cells": [
    {
      "cell_type": "markdown",
      "source": [
        "Name: Greeshma Hedvikar\n",
        "\n",
        "Net ID- gh2461\n",
        "\n",
        "Assignment- 01"
      ],
      "metadata": {
        "id": "yLla9Y6MfOMN"
      }
    },
    {
      "cell_type": "markdown",
      "source": [
        "Question 1: Display Fibonacci Series upto 10 terms"
      ],
      "metadata": {
        "id": "iEGKOky1Z9ZF"
      }
    },
    {
      "cell_type": "code",
      "execution_count": null,
      "metadata": {
        "colab": {
          "base_uri": "https://localhost:8080/"
        },
        "id": "blT4S-weYrDe",
        "outputId": "9e33c079-5150-4ac4-f84d-eefbac7a7267"
      },
      "outputs": [
        {
          "output_type": "stream",
          "name": "stdout",
          "text": [
            "Fibonacci Series up to 10 terms: [0, 1, 1, 2, 3, 5, 8, 13, 21, 34]\n"
          ]
        }
      ],
      "source": [
        "def fibonacci(n=10):\n",
        "    fib_series = [0, 1]\n",
        "    for i in range(2, n):\n",
        "        fib_series.append(fib_series[-1] + fib_series[-2])\n",
        "    return fib_series\n",
        "\n",
        "print(\"Fibonacci Series up to 10 terms:\", fibonacci())"
      ]
    },
    {
      "cell_type": "markdown",
      "source": [
        "Question 2: Display numbers at the odd indices of a list"
      ],
      "metadata": {
        "id": "rmkzG8p_aJ-N"
      }
    },
    {
      "cell_type": "code",
      "source": [
        "def odd_indices(lst):\n",
        "    return [lst[i] for i in range(1, len(lst), 2)]\n",
        "\n",
        "sample_list = [1, 2, 3, 4, 5, 6, 7, 8, 9, 10]\n",
        "print(\"Numbers at odd indices:\", odd_indices(sample_list))"
      ],
      "metadata": {
        "colab": {
          "base_uri": "https://localhost:8080/"
        },
        "id": "7aOBTUEjY2v6",
        "outputId": "b925e41b-6e33-49ea-82de-66079ab9ee6d"
      },
      "execution_count": null,
      "outputs": [
        {
          "output_type": "stream",
          "name": "stdout",
          "text": [
            "Numbers at odd indices: [2, 4, 6, 8, 10]\n"
          ]
        }
      ]
    },
    {
      "cell_type": "markdown",
      "source": [
        "Question 3: Your task is to count the number of different words in this text"
      ],
      "metadata": {
        "id": "5Pcdg3XKaP-K"
      }
    },
    {
      "cell_type": "code",
      "source": [
        "# Given string\n",
        "text = \"\"\"I have provided this text to provide tips on creating interesting paragraphs.\n",
        "\n",
        "First, start with a clear topic sentence that introduces the main idea.\n",
        "\n",
        "Then, support the topic sentence with specific details, examples, and evidence.\n",
        "\n",
        "Vary the sentence length and structure to keep the reader engaged.\n",
        "\n",
        "Finally, end with a strong concluding sentence that summarizes the main points.\n",
        "\n",
        "Remember, practice makes perfect!\n",
        "\"\"\"\n",
        "\n",
        "# Function to count the number of different words in the text\n",
        "def count_unique_words(text):\n",
        "    words = text.lower().split()\n",
        "    words = [word.strip(\".,!?\") for word in words]  # Removing punctuation\n",
        "    return len(set(words))\n",
        "\n",
        "print(\"Number of unique words in the given text:\", count_unique_words(text))"
      ],
      "metadata": {
        "colab": {
          "base_uri": "https://localhost:8080/"
        },
        "id": "dQyBORhJY6V6",
        "outputId": "daa01585-9911-4de9-fa66-52f34f7b69fe"
      },
      "execution_count": null,
      "outputs": [
        {
          "output_type": "stream",
          "name": "stdout",
          "text": [
            "Number of unique words in the given text: 47\n"
          ]
        }
      ]
    },
    {
      "cell_type": "markdown",
      "source": [
        "Question 4: Write a function count_vowels(word) that takes a word as an argument and returns the number of vowels in the word"
      ],
      "metadata": {
        "id": "1wRDuUhvaUvs"
      }
    },
    {
      "cell_type": "code",
      "source": [
        "# Function to count the number of vowels in a word\n",
        "def count_vowels(word):\n",
        "    vowels = \"aeiouAEIOU\"\n",
        "    return sum(1 for char in word if char in vowels)\n",
        "\n",
        "print(\"Vowels in 'elephant':\", count_vowels(\"elephant\"))"
      ],
      "metadata": {
        "colab": {
          "base_uri": "https://localhost:8080/"
        },
        "id": "uzHX60zOY_H-",
        "outputId": "9b275e3d-5670-4806-9681-08632410fec2"
      },
      "execution_count": null,
      "outputs": [
        {
          "output_type": "stream",
          "name": "stdout",
          "text": [
            "Vowels in 'elephant': 3\n"
          ]
        }
      ]
    },
    {
      "cell_type": "markdown",
      "source": [
        "Question 5: Iterate through the following list of animals and print each one in all caps."
      ],
      "metadata": {
        "id": "lCLTap_habPX"
      }
    },
    {
      "cell_type": "code",
      "source": [
        "# List of animals\n",
        "animals = ['tiger', 'elephant', 'monkey', 'zebra', 'panther']\n",
        "\n",
        "# Print each animal in uppercase\n",
        "print(\"Animals in uppercase:\")\n",
        "for animal in animals:\n",
        "    print(animal.upper())"
      ],
      "metadata": {
        "colab": {
          "base_uri": "https://localhost:8080/"
        },
        "id": "m2M5qspUZBt2",
        "outputId": "107dae88-e417-4243-8890-d4ef8f2e68cf"
      },
      "execution_count": null,
      "outputs": [
        {
          "output_type": "stream",
          "name": "stdout",
          "text": [
            "Animals in uppercase:\n",
            "TIGER\n",
            "ELEPHANT\n",
            "MONKEY\n",
            "ZEBRA\n",
            "PANTHER\n"
          ]
        }
      ]
    },
    {
      "cell_type": "markdown",
      "source": [
        "Question 6: Write a program that iterates from 1 to 20, printing each number and whether it's odd or even."
      ],
      "metadata": {
        "id": "XNmC0BpyafwY"
      }
    },
    {
      "cell_type": "code",
      "source": [
        "# Program to iterate from 1 to 20 and print odd or even\n",
        "print(\"Odd and Even numbers from 1 to 20:\")\n",
        "for num in range(1, 21):\n",
        "    print(f\"{num} is {'Odd' if num % 2 != 0 else 'Even'}\")"
      ],
      "metadata": {
        "colab": {
          "base_uri": "https://localhost:8080/"
        },
        "id": "QZGo6WbXZKaH",
        "outputId": "0d462de3-169e-4f9c-de56-30d5f898adea"
      },
      "execution_count": null,
      "outputs": [
        {
          "output_type": "stream",
          "name": "stdout",
          "text": [
            "Odd and Even numbers from 1 to 20:\n",
            "1 is Odd\n",
            "2 is Even\n",
            "3 is Odd\n",
            "4 is Even\n",
            "5 is Odd\n",
            "6 is Even\n",
            "7 is Odd\n",
            "8 is Even\n",
            "9 is Odd\n",
            "10 is Even\n",
            "11 is Odd\n",
            "12 is Even\n",
            "13 is Odd\n",
            "14 is Even\n",
            "15 is Odd\n",
            "16 is Even\n",
            "17 is Odd\n",
            "18 is Even\n",
            "19 is Odd\n",
            "20 is Even\n"
          ]
        }
      ]
    },
    {
      "cell_type": "markdown",
      "source": [
        "Question 7: Write a function sum_of_integers(a, b) that takes two integers as input from the user and returns their sum."
      ],
      "metadata": {
        "id": "rPR62Q6Gajqe"
      }
    },
    {
      "cell_type": "code",
      "source": [
        "def sum_of_integers(a, b):\n",
        "    return a + b\n",
        "\n",
        "a, b = 5, 10\n",
        "print(f\"Sum of {a} and {b} is:\", sum_of_integers(a, b))"
      ],
      "metadata": {
        "colab": {
          "base_uri": "https://localhost:8080/"
        },
        "id": "rccwyFX7ZOp3",
        "outputId": "d029b584-75bb-46ba-aef1-098b5fa149f0"
      },
      "execution_count": null,
      "outputs": [
        {
          "output_type": "stream",
          "name": "stdout",
          "text": [
            "Sum of 5 and 10 is: 15\n"
          ]
        }
      ]
    }
  ]
}