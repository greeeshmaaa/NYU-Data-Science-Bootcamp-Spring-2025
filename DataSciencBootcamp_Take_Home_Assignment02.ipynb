{
  "nbformat": 4,
  "nbformat_minor": 0,
  "metadata": {
    "colab": {
      "provenance": []
    },
    "kernelspec": {
      "name": "python3",
      "display_name": "Python 3"
    },
    "language_info": {
      "name": "python"
    }
  },
  "cells": [
    {
      "cell_type": "markdown",
      "source": [
        "Name: Greeshma Hedvikar\n",
        "\n",
        "Net ID- gh2461\n",
        "\n",
        "Assignment- 02"
      ],
      "metadata": {
        "id": "HNvp7wHQpCBM"
      }
    },
    {
      "cell_type": "code",
      "execution_count": 1,
      "metadata": {
        "id": "lpMZbccvoL5m"
      },
      "outputs": [],
      "source": [
        "import numpy as np\n",
        "\n",
        "# Load the iris dataset\n",
        "url = 'https://archive.ics.uci.edu/ml/machine-learning-databases/iris/iris.data'\n",
        "iris_2d = np.genfromtxt(url, delimiter=',', dtype='float', usecols=[0,1,2,3])\n"
      ]
    },
    {
      "cell_type": "code",
      "source": [
        "# Define two numpy arrays A and B\n",
        "A = np.array([[1, 2, 3], [4, 5, 6]])\n",
        "B = np.array([[4, 5, 6], [7, 8, 9]])\n",
        "\n",
        "# Stack vertically and horizontally\n",
        "vertical_stack = np.vstack((A, B))\n",
        "horizontal_stack = np.hstack((A, B))\n",
        "\n",
        "print(\"Vertical Stack:\\n\", vertical_stack)\n",
        "print(\"Horizontal Stack:\\n\", horizontal_stack)\n"
      ],
      "metadata": {
        "colab": {
          "base_uri": "https://localhost:8080/"
        },
        "id": "8djIHn4PoW3g",
        "outputId": "4573b116-3852-4bb9-f1e5-14faacbc257e"
      },
      "execution_count": 2,
      "outputs": [
        {
          "output_type": "stream",
          "name": "stdout",
          "text": [
            "Vertical Stack:\n",
            " [[1 2 3]\n",
            " [4 5 6]\n",
            " [4 5 6]\n",
            " [7 8 9]]\n",
            "Horizontal Stack:\n",
            " [[1 2 3 4 5 6]\n",
            " [4 5 6 7 8 9]]\n"
          ]
        }
      ]
    },
    {
      "cell_type": "code",
      "source": [
        "# Find common elements\n",
        "common_elements = np.intersect1d(A, B)\n",
        "print(\"Common Elements between A and B:\", common_elements)\n"
      ],
      "metadata": {
        "colab": {
          "base_uri": "https://localhost:8080/"
        },
        "id": "dTkGdwosoZNz",
        "outputId": "a64be499-5610-4dd7-95b7-431ba0e9aaf7"
      },
      "execution_count": 3,
      "outputs": [
        {
          "output_type": "stream",
          "name": "stdout",
          "text": [
            "Common Elements between A and B: [4 5 6]\n"
          ]
        }
      ]
    },
    {
      "cell_type": "code",
      "source": [
        "# Extract elements between 5 and 10 from A\n",
        "range_elements = A[(A >= 5) & (A <= 10)]\n",
        "print(\"Elements between 5 and 10 from A:\", range_elements)\n"
      ],
      "metadata": {
        "colab": {
          "base_uri": "https://localhost:8080/"
        },
        "id": "9xHBY1KVoaok",
        "outputId": "d6ef3c17-8d6b-46ba-ed6f-268437db6cb9"
      },
      "execution_count": 4,
      "outputs": [
        {
          "output_type": "stream",
          "name": "stdout",
          "text": [
            "Elements between 5 and 10 from A: [5 6]\n"
          ]
        }
      ]
    },
    {
      "cell_type": "code",
      "source": [
        "# Filter rows based on conditions\n",
        "filtered_rows = iris_2d[(iris_2d[:, 2] > 1.5) & (iris_2d[:, 0] < 5.0)]\n",
        "print(\"Filtered iris_2d rows:\\n\", filtered_rows)\n"
      ],
      "metadata": {
        "colab": {
          "base_uri": "https://localhost:8080/"
        },
        "id": "nvaeAEKkocMg",
        "outputId": "e2d8f58c-9d50-47cd-cbd3-d024a2bc7e3b"
      },
      "execution_count": 5,
      "outputs": [
        {
          "output_type": "stream",
          "name": "stdout",
          "text": [
            "Filtered iris_2d rows:\n",
            " [[4.8 3.4 1.6 0.2]\n",
            " [4.8 3.4 1.9 0.2]\n",
            " [4.7 3.2 1.6 0.2]\n",
            " [4.8 3.1 1.6 0.2]\n",
            " [4.9 2.4 3.3 1. ]\n",
            " [4.9 2.5 4.5 1.7]]\n"
          ]
        }
      ]
    },
    {
      "cell_type": "code",
      "source": [
        "import pandas as pd\n",
        "\n",
        "# Load dataset\n",
        "df = pd.read_csv('https://raw.githubusercontent.com/selva86/datasets/master/Cars93_miss.csv')\n",
        "\n",
        "# Select every 20th row starting from 0 for selected columns\n",
        "filtered_df = df.loc[::20, ['Manufacturer', 'Model', 'Type']]\n",
        "print(filtered_df)\n"
      ],
      "metadata": {
        "colab": {
          "base_uri": "https://localhost:8080/"
        },
        "id": "pRSy9t0RokOB",
        "outputId": "0f67273f-051b-4a4d-9f29-7dd0733713f0"
      },
      "execution_count": 6,
      "outputs": [
        {
          "output_type": "stream",
          "name": "stdout",
          "text": [
            "   Manufacturer    Model     Type\n",
            "0         Acura  Integra    Small\n",
            "20     Chrysler  LeBaron  Compact\n",
            "40        Honda  Prelude   Sporty\n",
            "60      Mercury   Cougar  Midsize\n",
            "80       Subaru   Loyale    Small\n"
          ]
        }
      ]
    },
    {
      "cell_type": "code",
      "source": [
        "# Reload dataset\n",
        "df = pd.read_csv('https://raw.githubusercontent.com/selva86/datasets/master/Cars93_miss.csv')\n",
        "\n",
        "# Replace NaNs with column mean\n",
        "df['Min.Price'].fillna(df['Min.Price'].mean(), inplace=True)\n",
        "df['Max.Price'].fillna(df['Max.Price'].mean(), inplace=True)\n",
        "\n",
        "print(\"Missing values filled in Min.Price and Max.Price.\")\n"
      ],
      "metadata": {
        "colab": {
          "base_uri": "https://localhost:8080/"
        },
        "id": "3b5Xp9H7omC6",
        "outputId": "b2c2c560-236b-4ded-a8c5-c11aeb29f852"
      },
      "execution_count": 7,
      "outputs": [
        {
          "output_type": "stream",
          "name": "stdout",
          "text": [
            "Missing values filled in Min.Price and Max.Price.\n"
          ]
        },
        {
          "output_type": "stream",
          "name": "stderr",
          "text": [
            "<ipython-input-7-cb0198c93101>:5: FutureWarning: A value is trying to be set on a copy of a DataFrame or Series through chained assignment using an inplace method.\n",
            "The behavior will change in pandas 3.0. This inplace method will never work because the intermediate object on which we are setting values always behaves as a copy.\n",
            "\n",
            "For example, when doing 'df[col].method(value, inplace=True)', try using 'df.method({col: value}, inplace=True)' or df[col] = df[col].method(value) instead, to perform the operation inplace on the original object.\n",
            "\n",
            "\n",
            "  df['Min.Price'].fillna(df['Min.Price'].mean(), inplace=True)\n",
            "<ipython-input-7-cb0198c93101>:6: FutureWarning: A value is trying to be set on a copy of a DataFrame or Series through chained assignment using an inplace method.\n",
            "The behavior will change in pandas 3.0. This inplace method will never work because the intermediate object on which we are setting values always behaves as a copy.\n",
            "\n",
            "For example, when doing 'df[col].method(value, inplace=True)', try using 'df.method({col: value}, inplace=True)' or df[col] = df[col].method(value) instead, to perform the operation inplace on the original object.\n",
            "\n",
            "\n",
            "  df['Max.Price'].fillna(df['Max.Price'].mean(), inplace=True)\n"
          ]
        }
      ]
    },
    {
      "cell_type": "code",
      "source": [
        "# Create a random DataFrame\n",
        "df_random = pd.DataFrame(np.random.randint(10, 40, 60).reshape(-1, 4))\n",
        "\n",
        "# Filter rows where row sum > 100\n",
        "rows_sum_gt_100 = df_random[df_random.sum(axis=1) > 100]\n",
        "print(\"Rows with sum > 100:\\n\", rows_sum_gt_100)\n"
      ],
      "metadata": {
        "colab": {
          "base_uri": "https://localhost:8080/"
        },
        "id": "UvZD8CIron-q",
        "outputId": "b1b55375-483b-4b63-82e1-bc419157cfc3"
      },
      "execution_count": 8,
      "outputs": [
        {
          "output_type": "stream",
          "name": "stdout",
          "text": [
            "Rows with sum > 100:\n",
            "      0   1   2   3\n",
            "1   11  20  39  35\n",
            "7   12  25  35  37\n",
            "10  27  39  30  14\n",
            "12  29  33  20  36\n"
          ]
        }
      ]
    }
  ]
}